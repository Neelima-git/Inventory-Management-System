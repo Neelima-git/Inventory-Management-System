{
 "cells": [
  {
   "cell_type": "code",
   "execution_count": 18,
   "id": "fd18821b",
   "metadata": {},
   "outputs": [
    {
     "name": "stdout",
     "output_type": "stream",
     "text": [
      "Enter the product id: 1018\n",
      "Yes Apple Juice is available in inventory!\n",
      "Enter no of units to purchase: 6\n",
      "__________________________\n",
      "Product Name: Apple Juice\n",
      "Unit Price: 58\n",
      "___________________________\n",
      "Billing Amount: 348\n",
      "___________________________\n",
      "Payment methods: \n",
      " 1. Pay Cash \n",
      " 2. Online Payment? 1\n",
      "Enter your name: Keerthi\n",
      "Thank you!  Keerthi , Order Successful! Have a nice day :)\n"
     ]
    }
   ],
   "source": [
    "fd = open(\"products.json\", \"r\")\n",
    "r = fd.read()\n",
    "fd.close()\n",
    "\n",
    "sl = open(\"sales.json\", \"r\")\n",
    "t = sl.read()\n",
    "sl.close()\n",
    "\n",
    "import json\n",
    "\n",
    "products = json.loads(r)\n",
    "sales = json.loads(t)\n",
    "\n",
    "prod_id = input(\"Enter the product id: \")\n",
    "\n",
    "if(prod_id in products.keys()):\n",
    "    print(\"Yes\", products[prod_id]['name'], \"is available in inventory!\")\n",
    "    prod_name = products[prod_id]['name']\n",
    "    units = int(input(\"Enter no of units to purchase: \"))\n",
    "    if(units <= int(products[prod_id]['units'])):   \n",
    "        print(\"__________________________\")\n",
    "        print(\"Product Name:\", products[prod_id]['name'])\n",
    "        print(\"Unit Price:\", products[prod_id]['MRP'])\n",
    "        print(\"___________________________\")\n",
    "        bill_amount = int(products[prod_id]['MRP'])*units\n",
    "        print(\"Billing Amount:\", bill_amount)\n",
    "        print(\"___________________________\")\n",
    "        payment = input(\"Payment methods: \\n 1. Pay Cash \\n 2. Online Payment? \")\n",
    "        cus_name = input(\"Enter your name: \")\n",
    "        if(payment == '1'):\n",
    "            pass\n",
    "        elif(payment == '2'):\n",
    "            print(\"Please insert your card!\")\n",
    "            input(\"Enter PIN number: \")\n",
    "        \n",
    "        print(\"Thank you! \",cus_name,\",\", \"Order Successful! Have a nice day :)\" )\n",
    "    \n",
    "        products[prod_id]['units'] = int(products[prod_id]['units']) - units\n",
    "        \n",
    "        import time\n",
    "        t_date = time.ctime()\n",
    "        \n",
    "        transaction_id = len(sales) + 1\n",
    "        sales[transaction_id] = {'prod_id' : prod_id,'cus_name': cus_name, 'prod_name' : prod_name, 'Units': units, 'bill_amount': bill_amount, 't_date': t_date }\n",
    "        \n",
    "        ts = json.dumps(sales)\n",
    "        fd = open(\"sales.json\", \"w\")\n",
    "        fd.write(ts)\n",
    "        fd.close()\n",
    "        \n",
    "    else:\n",
    "        print(\"Sorry!\", units, \"products aren't available in stock. But\", products[prod_id]['units'], \"products are available for purchase.\" )\n",
    "else:\n",
    "    print(\"Sorry! The product doesn't exist. \")\n",
    "js = json.dumps(products)\n",
    "\n",
    "fd = open(\"products.json\", \"w\")\n",
    "fd.write(js)\n",
    "fd.close()\n"
   ]
  },
  {
   "cell_type": "code",
   "execution_count": 21,
   "id": "55456901",
   "metadata": {},
   "outputs": [],
   "source": [
    "del sales['4']"
   ]
  },
  {
   "cell_type": "code",
   "execution_count": 22,
   "id": "3c2d8a8c",
   "metadata": {},
   "outputs": [],
   "source": [
    "ts = json.dumps(sales)\n",
    "fd = open(\"sales.json\", \"w\")\n",
    "fd.write(ts)\n",
    "fd.close()"
   ]
  },
  {
   "cell_type": "code",
   "execution_count": 23,
   "id": "cef60201",
   "metadata": {},
   "outputs": [
    {
     "data": {
      "text/plain": [
       "{'1': {'prod_id': '1002',\n",
       "  'prod_name': 'Almond',\n",
       "  'Units': 2,\n",
       "  'bill_amount': 2310,\n",
       "  't_date': 'Mon Sep  6 11:28:26 2021'},\n",
       " '2': {'prod_id': '1003',\n",
       "  'prod_name': 'Almond',\n",
       "  'Units': 5,\n",
       "  'bill_amount': 5775,\n",
       "  't_date': 'Mon Sep  6 12:54:01 2021'},\n",
       " '3': {'prod_id': '1002',\n",
       "  'prod_name': 'Almond',\n",
       "  'Units': 5,\n",
       "  'bill_amount': 5775,\n",
       "  't_date': 'Mon Sep  6 12:59:29 2021'},\n",
       " '6': {'prod_id': '1025',\n",
       "  'cus_name': 'Ankit',\n",
       "  'prod_name': 'Rusks',\n",
       "  'Units': 5,\n",
       "  'bill_amount': 50,\n",
       "  't_date': 'Mon Sep  6 14:35:50 2021'},\n",
       " '7': {'prod_id': '1010',\n",
       "  'cus_name': 'Kaun',\n",
       "  'prod_name': 'Dust Tea',\n",
       "  'Units': 3,\n",
       "  'bill_amount': 525,\n",
       "  't_date': 'Mon Sep  6 14:39:27 2021'},\n",
       " '8': {'prod_id': '1011',\n",
       "  'cus_name': 'Laasya',\n",
       "  'prod_name': 'Amul Paneer',\n",
       "  'Units': 7,\n",
       "  'bill_amount': 546,\n",
       "  't_date': 'Mon Sep  6 14:40:03 2021'},\n",
       " '9': {'prod_id': '1013',\n",
       "  'cus_name': 'Neetu',\n",
       "  'prod_name': 'Butter',\n",
       "  'Units': 9,\n",
       "  'bill_amount': 450,\n",
       "  't_date': 'Mon Sep  6 14:40:33 2021'},\n",
       " 10: {'prod_id': '1018',\n",
       "  'cus_name': 'Keerthi',\n",
       "  'prod_name': 'Apple Juice',\n",
       "  'Units': 6,\n",
       "  'bill_amount': 348,\n",
       "  't_date': 'Mon Sep  6 14:41:15 2021'}}"
      ]
     },
     "execution_count": 23,
     "metadata": {},
     "output_type": "execute_result"
    }
   ],
   "source": [
    "sales"
   ]
  },
  {
   "cell_type": "code",
   "execution_count": null,
   "id": "1b76d950",
   "metadata": {},
   "outputs": [],
   "source": []
  }
 ],
 "metadata": {
  "kernelspec": {
   "display_name": "Python 3",
   "language": "python",
   "name": "python3"
  },
  "language_info": {
   "codemirror_mode": {
    "name": "ipython",
    "version": 3
   },
   "file_extension": ".py",
   "mimetype": "text/x-python",
   "name": "python",
   "nbconvert_exporter": "python",
   "pygments_lexer": "ipython3",
   "version": "3.8.8"
  }
 },
 "nbformat": 4,
 "nbformat_minor": 5
}
