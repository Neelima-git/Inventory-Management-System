{
 "cells": [
  {
   "cell_type": "code",
   "execution_count": 40,
   "id": "c4119199",
   "metadata": {},
   "outputs": [
    {
     "name": "stdout",
     "output_type": "stream",
     "text": [
      "Enter the product id: 1001\n",
      "Product exits\n",
      "Enter no of units to be added: 10\n",
      "Success! Number of products updated.\n"
     ]
    }
   ],
   "source": [
    "fd = open(\"products.json\", \"r\")\n",
    "r = fd.read()\n",
    "fd.close()\n",
    "\n",
    "import json\n",
    "\n",
    "products = json.loads(r)\n",
    "\n",
    "prod_id = str(input(\"Enter the product id: \"))\n",
    "\n",
    "\n",
    "if(prod_id in products.keys()):\n",
    "  print(\"Product exits\")\n",
    "  units = int(input(\"Enter no of units to be added: \"))\n",
    "  products[prod_id]['Units'] = products[prod_id]['Units'] + units\n",
    "  print(\"Success! Number of products updated.\")\n",
    "\n",
    "\n",
    "else:\n",
    "  print(\"Product doesn't exists! Add new product\")\n",
    "  name = input(\"Enter product name: \")\n",
    "  MRP = input(\"Enter MRP: \")\n",
    "  Nw = input(\"Enter Net Weight: \")\n",
    "  units = input(\"Enter units: \")\n",
    "  MD = input(\"Enter Manufacture date: \")\n",
    "  ED = input(\"Enter Expiry date: \")\n",
    "\n",
    "  products[prod_id] = {'name': name, 'MRP': MRP, 'Nw': Nw, 'units': units, 'MD': MD, 'ED': ED}\n",
    "\n",
    "  print(\"Successful! New product added to inventory.\")\n",
    "\n",
    "js = json.dumps(products)\n",
    "\n",
    "fd = open(\"products.json\", \"w\")\n",
    "fd.write(js)\n",
    "fd.close()"
   ]
  },
  {
   "cell_type": "code",
   "execution_count": null,
   "id": "193e6c4d",
   "metadata": {},
   "outputs": [],
   "source": []
  }
 ],
 "metadata": {
  "kernelspec": {
   "display_name": "Python 3",
   "language": "python",
   "name": "python3"
  },
  "language_info": {
   "codemirror_mode": {
    "name": "ipython",
    "version": 3
   },
   "file_extension": ".py",
   "mimetype": "text/x-python",
   "name": "python",
   "nbconvert_exporter": "python",
   "pygments_lexer": "ipython3",
   "version": "3.8.8"
  }
 },
 "nbformat": 4,
 "nbformat_minor": 5
}
