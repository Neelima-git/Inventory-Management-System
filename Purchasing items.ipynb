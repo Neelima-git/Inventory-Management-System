{
 "cells": [
  {
   "cell_type": "code",
   "execution_count": 3,
   "source": [
    "fd = open(\"products.json\", \"r\")\r\n",
    "r = fd.read()\r\n",
    "fd.close()\r\n",
    "\r\n",
    "sl = open(\"sales.json\", \"r\")\r\n",
    "t = sl.read()\r\n",
    "sl.close()\r\n",
    "\r\n",
    "import json\r\n",
    "\r\n",
    "products = json.loads(r)\r\n",
    "sales = json.loads(t)\r\n",
    "\r\n",
    "prod_id = input(\"Enter the product id: \")\r\n",
    "\r\n",
    "if(prod_id in products.keys()):\r\n",
    "    print(\"Yes\", products[prod_id]['name'], \"is available in inventory!\")\r\n",
    "    prod_name = products[prod_id]['name']\r\n",
    "    units = int(input(\"Enter no of units to purchase: \"))\r\n",
    "    if(units <= int(products[prod_id]['units'])):   \r\n",
    "        print(\"__________________________\")\r\n",
    "        print(\"Product Name:\", products[prod_id]['name'])\r\n",
    "        print(\"Unit Price:\", products[prod_id]['MRP'])\r\n",
    "        print(\"___________________________\")\r\n",
    "        bill_amount = int(products[prod_id]['MRP'])*units\r\n",
    "        print(\"Billing Amount:\", bill_amount)\r\n",
    "        print(\"___________________________\")\r\n",
    "        payment = input(\"Payment methods: \\n 1. Pay Cash \\n 2. Online Payment? \")\r\n",
    "        cus_name = input(\"Enter your name: \")\r\n",
    "        if(payment == '1'):\r\n",
    "            pass\r\n",
    "        elif(payment == '2'):\r\n",
    "            print(\"Please insert your card!\")\r\n",
    "            input(\"Enter PIN number: \")\r\n",
    "        \r\n",
    "        print(\"Thank you! \",cus_name,\",\", \"Order Successful! Have a nice day :)\" )\r\n",
    "    \r\n",
    "        products[prod_id]['units'] = int(products[prod_id]['units']) - units\r\n",
    "        \r\n",
    "        import time\r\n",
    "        t_date = time.ctime()\r\n",
    "        \r\n",
    "        transaction_id = len(sales) + 1\r\n",
    "        sales[transaction_id] = {'prod_id' : prod_id,'cus_name': cus_name, 'prod_name' : prod_name, 'Units': units, 'bill_amount': bill_amount, 't_date': t_date }\r\n",
    "        \r\n",
    "        ts = json.dumps(sales)\r\n",
    "        fd = open(\"sales.json\", \"w\")\r\n",
    "        fd.write(ts)\r\n",
    "        fd.close()\r\n",
    "        \r\n",
    "    else:\r\n",
    "        print(\"Sorry!\", units, \"products aren't available in stock. But\", products[prod_id]['units'], \"products are available for purchase.\" )\r\n",
    "else:\r\n",
    "    print(\"Sorry! The product doesn't exist. \")\r\n",
    "js = json.dumps(products)\r\n",
    "\r\n",
    "fd = open(\"products.json\", \"w\")\r\n",
    "fd.write(js)\r\n",
    "fd.close()\r\n"
   ],
   "outputs": [
    {
     "output_type": "stream",
     "name": "stdout",
     "text": [
      "Yes Millet Rusk is available in inventory!\n",
      "__________________________\n",
      "Product Name: Millet Rusk\n",
      "Unit Price: 105\n",
      "___________________________\n",
      "Billing Amount: 2100\n",
      "___________________________\n",
      "Please insert your card!\n",
      "Thank you!  Rosey , Order Successful! Have a nice day :)\n"
     ]
    }
   ],
   "metadata": {}
  },
  {
   "cell_type": "code",
   "execution_count": 4,
   "source": [
    "sales"
   ],
   "outputs": [
    {
     "output_type": "execute_result",
     "data": {
      "text/plain": [
       "{'1': {'prod_id': '1002',\n",
       "  'prod_name': 'Almond',\n",
       "  'Units': 2,\n",
       "  'bill_amount': 2310,\n",
       "  't_date': 'Mon Sep  6 11:28:26 2021'},\n",
       " '2': {'prod_id': '1003',\n",
       "  'prod_name': 'Almond',\n",
       "  'Units': 5,\n",
       "  'bill_amount': 5775,\n",
       "  't_date': 'Mon Sep  6 12:54:01 2021'},\n",
       " '3': {'prod_id': '1002',\n",
       "  'prod_name': 'Almond',\n",
       "  'Units': 5,\n",
       "  'bill_amount': 5775,\n",
       "  't_date': 'Mon Sep  6 12:59:29 2021'},\n",
       " '4': {'prod_id': '1025',\n",
       "  'cus_name': 'Ankit',\n",
       "  'prod_name': 'Rusks',\n",
       "  'Units': 5,\n",
       "  'bill_amount': 50,\n",
       "  't_date': 'Mon Sep  6 14:35:50 2021'},\n",
       " '5': {'prod_id': '1010',\n",
       "  'cus_name': 'Kaun',\n",
       "  'prod_name': 'Dust Tea',\n",
       "  'Units': 3,\n",
       "  'bill_amount': 525,\n",
       "  't_date': 'Mon Sep  6 14:39:27 2021'},\n",
       " '6': {'prod_id': '1011',\n",
       "  'cus_name': 'Laasya',\n",
       "  'prod_name': 'Amul Paneer',\n",
       "  'Units': 7,\n",
       "  'bill_amount': 546,\n",
       "  't_date': 'Mon Sep  6 14:40:03 2021'},\n",
       " '7': {'prod_id': '1013',\n",
       "  'cus_name': 'Neetu',\n",
       "  'prod_name': 'Butter',\n",
       "  'Units': 9,\n",
       "  'bill_amount': 450,\n",
       "  't_date': 'Mon Sep  6 14:40:33 2021'},\n",
       " '8': {'prod_id': '1018',\n",
       "  'cus_name': 'Keerthi',\n",
       "  'prod_name': 'Apple Juice',\n",
       "  'Units': 6,\n",
       "  'bill_amount': 348,\n",
       "  't_date': 'Mon Sep  6 14:41:15 2021'},\n",
       " '9': {'prod_id': '1006',\n",
       "  'cus_name': 'Neelima',\n",
       "  'prod_name': 'Maggie noodles',\n",
       "  'Units': 8,\n",
       "  'bill_amount': 768,\n",
       "  't_date': 'Mon Sep  6 22:23:25 2021'},\n",
       " 10: {'prod_id': '1026',\n",
       "  'cus_name': 'Rosey',\n",
       "  'prod_name': 'Millet Rusk',\n",
       "  'Units': 20,\n",
       "  'bill_amount': 2100,\n",
       "  't_date': 'Mon Sep  6 22:30:55 2021'}}"
      ]
     },
     "metadata": {},
     "execution_count": 4
    }
   ],
   "metadata": {}
  },
  {
   "cell_type": "code",
   "execution_count": null,
   "source": [],
   "outputs": [],
   "metadata": {}
  }
 ],
 "metadata": {
  "kernelspec": {
   "name": "python3",
   "display_name": "Python 3.9.2 64-bit"
  },
  "language_info": {
   "codemirror_mode": {
    "name": "ipython",
    "version": 3
   },
   "file_extension": ".py",
   "mimetype": "text/x-python",
   "name": "python",
   "nbconvert_exporter": "python",
   "pygments_lexer": "ipython3",
   "version": "3.9.2"
  },
  "interpreter": {
   "hash": "63fd5069d213b44bf678585dea6b12cceca9941eaf7f819626cde1f2670de90d"
  }
 },
 "nbformat": 4,
 "nbformat_minor": 5
}